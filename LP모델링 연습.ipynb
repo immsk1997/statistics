{
 "cells": [
  {
   "cell_type": "code",
   "execution_count": 31,
   "id": "d9f7e3aa",
   "metadata": {},
   "outputs": [],
   "source": [
    "from pulp import LpMaximize, LpMinimize, LpProblem, LpStatus, lpSum, LpVariable"
   ]
  },
  {
   "cell_type": "code",
   "execution_count": 32,
   "id": "0a4946c3",
   "metadata": {},
   "outputs": [],
   "source": [
    "model = LpProblem(name='문제_1',sense=LpMaximize)"
   ]
  },
  {
   "cell_type": "code",
   "execution_count": 33,
   "id": "14b79448",
   "metadata": {},
   "outputs": [],
   "source": [
    "x = LpVariable (name= 'x',lowBound = 0)\n",
    "y = LpVariable (name= 'y',lowBound = 0)"
   ]
  },
  {
   "cell_type": "code",
   "execution_count": 34,
   "id": "c999bae8",
   "metadata": {},
   "outputs": [],
   "source": [
    "model += 8000*x + 6000*y"
   ]
  },
  {
   "cell_type": "code",
   "execution_count": 35,
   "id": "74a7723f",
   "metadata": {},
   "outputs": [],
   "source": [
    "model += (0.2 * x + 0.4 * y <= 700,'constraint_#1')\n",
    "model += (0.5 * x + 0.25 * y <= 1000,'constraint_#2')"
   ]
  },
  {
   "cell_type": "code",
   "execution_count": 36,
   "id": "d92aef56",
   "metadata": {},
   "outputs": [
    {
     "data": {
      "text/plain": [
       "문제_1:\n",
       "MAXIMIZE\n",
       "8000*x + 6000*y + 0\n",
       "SUBJECT TO\n",
       "constraint_#1: 0.2 x + 0.4 y <= 700\n",
       "\n",
       "constraint_#2: 0.5 x + 0.25 y <= 1000\n",
       "\n",
       "VARIABLES\n",
       "x Continuous\n",
       "y Continuous"
      ]
     },
     "execution_count": 36,
     "metadata": {},
     "output_type": "execute_result"
    }
   ],
   "source": [
    "model"
   ]
  },
  {
   "cell_type": "code",
   "execution_count": 37,
   "id": "b9e03f6e",
   "metadata": {},
   "outputs": [],
   "source": [
    "status = model.solve()"
   ]
  },
  {
   "cell_type": "code",
   "execution_count": 38,
   "id": "bd44b7c7",
   "metadata": {},
   "outputs": [
    {
     "name": "stdout",
     "output_type": "stream",
     "text": [
      "status:1, Optimal\n"
     ]
    }
   ],
   "source": [
    "print(f\"status:{model.status}, {LpStatus[model.status]}\")"
   ]
  },
  {
   "cell_type": "code",
   "execution_count": 39,
   "id": "82c10125",
   "metadata": {},
   "outputs": [
    {
     "name": "stdout",
     "output_type": "stream",
     "text": [
      "objective: 18000000.0\n"
     ]
    }
   ],
   "source": [
    "print(f\"objective: {model.objective.value()}\")"
   ]
  },
  {
   "cell_type": "code",
   "execution_count": 40,
   "id": "ee898bc9",
   "metadata": {},
   "outputs": [
    {
     "name": "stdout",
     "output_type": "stream",
     "text": [
      "x: 1500.0\n",
      "y: 1000.0\n"
     ]
    }
   ],
   "source": [
    "for var in model.variables():\n",
    "    print(f\"{var.name}: {var.value()}\")"
   ]
  },
  {
   "cell_type": "code",
   "execution_count": 97,
   "id": "3040174e",
   "metadata": {},
   "outputs": [],
   "source": [
    "#문제 2"
   ]
  },
  {
   "cell_type": "code",
   "execution_count": 183,
   "id": "1444cec9",
   "metadata": {},
   "outputs": [],
   "source": [
    "model = LpProblem(name='문제_2',sense=LpMinimize)"
   ]
  },
  {
   "cell_type": "code",
   "execution_count": 184,
   "id": "4e09cbb1",
   "metadata": {},
   "outputs": [],
   "source": [
    "x부산마산 = LpVariable (name= 'x부산마산',lowBound = 0, cat='Integer')\n",
    "x대구마산 = LpVariable (name= 'x대구마산',lowBound = 0, cat='Integer')\n",
    "x광주마산 = LpVariable (name= 'x광주마산',lowBound = 0, cat='Integer')\n",
    "x서울마산 = LpVariable (name= 'x서울마산',lowBound = 0, cat='Integer')\n",
    "x부산대전 = LpVariable (name= 'x부산대전',lowBound = 0, cat='Integer')\n",
    "x대구대전 = LpVariable (name= 'x대구대전',lowBound = 0, cat='Integer')\n",
    "x광주대전 = LpVariable (name= 'x광주대전',lowBound = 0, cat='Integer')\n",
    "x서울대전 = LpVariable (name= 'x서울대전',lowBound = 0, cat='Integer')\n",
    "x부산군산 = LpVariable (name= 'x부산군산',lowBound = 0, cat='Integer')\n",
    "x대구군산 = LpVariable (name= 'x대구군산',lowBound = 0, cat='Integer')\n",
    "x광주군산 = LpVariable (name= 'x광주군산',lowBound = 0, cat='Integer')\n",
    "x서울군산 = LpVariable (name= 'x서울군산',lowBound = 0, cat='Integer')"
   ]
  },
  {
   "cell_type": "code",
   "execution_count": 185,
   "id": "8392e181",
   "metadata": {},
   "outputs": [],
   "source": [
    "model += 8 * x부산마산 + 9 * x대구마산 + 11 * x광주마산 + 16 * x서울마산 + 12 * x부산대전 + 7 * x대구대전 + 5 * x광주대전 + 8 * x서울대전 + 14 * x부산군산 + 10 * x대구군산 + 6 * x광주군산 + 7 * x서울군산"
   ]
  },
  {
   "cell_type": "code",
   "execution_count": 186,
   "id": "7207c5f4",
   "metadata": {},
   "outputs": [],
   "source": [
    "model += (x부산마산 + x대구마산 + x광주마산 + x서울마산 == 50,'constraint_#1')\n",
    "model += (x부산대전 + x대구대전 + x광주대전 + x서울대전 == 80,'constraint_#2')\n",
    "model += (x부산군산 + x대구군산 + x광주군산 + x서울군산 == 120,'constraint_#3')\n",
    "model += (x부산마산 + x부산대전 + x부산군산 == 90,'constraint_#4')\n",
    "model += (x대구마산 + x대구대전 + x대구군산 == 70,'constraint_#5')\n",
    "model += (x광주마산 + x광주대전 + x광주군산 == 40,'constraint_#6')\n",
    "model += (x서울마산 + x서울대전 + x서울군산 == 50,'constraint_#7')"
   ]
  },
  {
   "cell_type": "code",
   "execution_count": 187,
   "id": "d1497e21",
   "metadata": {},
   "outputs": [
    {
     "data": {
      "text/plain": [
       "문제_2:\n",
       "MINIMIZE\n",
       "6*x광주군산 + 5*x광주대전 + 11*x광주마산 + 10*x대구군산 + 7*x대구대전 + 9*x대구마산 + 14*x부산군산 + 12*x부산대전 + 8*x부산마산 + 7*x서울군산 + 8*x서울대전 + 16*x서울마산 + 0\n",
       "SUBJECT TO\n",
       "constraint_#1: x광주마산 + x대구마산 + x부산마산 + x서울마산 = 50\n",
       "\n",
       "constraint_#2: x광주대전 + x대구대전 + x부산대전 + x서울대전 = 80\n",
       "\n",
       "constraint_#3: x광주군산 + x대구군산 + x부산군산 + x서울군산 = 120\n",
       "\n",
       "constraint_#4: x부산군산 + x부산대전 + x부산마산 = 90\n",
       "\n",
       "constraint_#5: x대구군산 + x대구대전 + x대구마산 = 70\n",
       "\n",
       "constraint_#6: x광주군산 + x광주대전 + x광주마산 = 40\n",
       "\n",
       "constraint_#7: x서울군산 + x서울대전 + x서울마산 = 50\n",
       "\n",
       "VARIABLES\n",
       "0 <= x광주군산 Integer\n",
       "0 <= x광주대전 Integer\n",
       "0 <= x광주마산 Integer\n",
       "0 <= x대구군산 Integer\n",
       "0 <= x대구대전 Integer\n",
       "0 <= x대구마산 Integer\n",
       "0 <= x부산군산 Integer\n",
       "0 <= x부산대전 Integer\n",
       "0 <= x부산마산 Integer\n",
       "0 <= x서울군산 Integer\n",
       "0 <= x서울대전 Integer\n",
       "0 <= x서울마산 Integer"
      ]
     },
     "execution_count": 187,
     "metadata": {},
     "output_type": "execute_result"
    }
   ],
   "source": [
    "model"
   ]
  },
  {
   "cell_type": "code",
   "execution_count": 188,
   "id": "72bc3373",
   "metadata": {},
   "outputs": [],
   "source": [
    "status = model.solve()"
   ]
  },
  {
   "cell_type": "code",
   "execution_count": 189,
   "id": "73b67a9a",
   "metadata": {},
   "outputs": [
    {
     "name": "stdout",
     "output_type": "stream",
     "text": [
      "status:1, Optimal\n"
     ]
    }
   ],
   "source": [
    "print(f\"status:{model.status}, {LpStatus[model.status]}\")"
   ]
  },
  {
   "cell_type": "code",
   "execution_count": 190,
   "id": "7a05e994",
   "metadata": {},
   "outputs": [
    {
     "name": "stdout",
     "output_type": "stream",
     "text": [
      "objective: 2020.0\n"
     ]
    }
   ],
   "source": [
    "print(f\"objective: {model.objective.value()}\")"
   ]
  },
  {
   "cell_type": "code",
   "execution_count": 191,
   "id": "59146c42",
   "metadata": {},
   "outputs": [
    {
     "name": "stdout",
     "output_type": "stream",
     "text": [
      "x광주군산: 40.0\n",
      "x광주대전: 0.0\n",
      "x광주마산: 0.0\n",
      "x대구군산: 0.0\n",
      "x대구대전: 70.0\n",
      "x대구마산: 0.0\n",
      "x부산군산: 30.0\n",
      "x부산대전: 10.0\n",
      "x부산마산: 50.0\n",
      "x서울군산: 50.0\n",
      "x서울대전: 0.0\n",
      "x서울마산: 0.0\n"
     ]
    }
   ],
   "source": [
    "for var in model.variables():\n",
    "    print(f\"{var.name}: {var.value()}\")"
   ]
  },
  {
   "cell_type": "code",
   "execution_count": 118,
   "id": "b6d39ffa",
   "metadata": {},
   "outputs": [],
   "source": [
    "#문제 3"
   ]
  },
  {
   "cell_type": "code",
   "execution_count": 108,
   "id": "d7da2c66",
   "metadata": {},
   "outputs": [],
   "source": [
    "model = LpProblem(name='문제_3',sense=LpMaximize)"
   ]
  },
  {
   "cell_type": "code",
   "execution_count": 77,
   "id": "1d73ade0",
   "metadata": {},
   "outputs": [],
   "source": [
    "x1 = LpVariable (name= 'x1',lowBound = 0, cat = 'Binary')\n",
    "x2 = LpVariable (name= 'x2',lowBound = 0, cat = 'Binary')\n",
    "x3 = LpVariable (name= 'x3',lowBound = 0, cat = 'Binary')"
   ]
  },
  {
   "cell_type": "code",
   "execution_count": 78,
   "id": "9d45283b",
   "metadata": {},
   "outputs": [],
   "source": [
    "model += 450 * x1 + 200 * x2 + 350 * x3"
   ]
  },
  {
   "cell_type": "code",
   "execution_count": 79,
   "id": "de7a1b94",
   "metadata": {},
   "outputs": [],
   "source": [
    "model += (100 * x1 + 150 * x2 + 50 * x3 <= 250,'constraint_#1')\n",
    "model += (100 * x1 + 50 * x2 + 50 * x3 <= 400,'constraint_#2')\n",
    "model += (100 * x1 + 50 * x2 + 100 * x3 <= 200,'constraint_#3')"
   ]
  },
  {
   "cell_type": "code",
   "execution_count": 80,
   "id": "ada9ea21",
   "metadata": {},
   "outputs": [
    {
     "data": {
      "text/plain": [
       "문제_3:\n",
       "MAXIMIZE\n",
       "450*x1 + 200*x2 + 350*x3 + 0\n",
       "SUBJECT TO\n",
       "constraint_#1: 100 x1 + 150 x2 + 50 x3 <= 250\n",
       "\n",
       "constraint_#2: 100 x1 + 50 x2 + 50 x3 <= 400\n",
       "\n",
       "constraint_#3: 100 x1 + 50 x2 + 100 x3 <= 200\n",
       "\n",
       "VARIABLES\n",
       "0 <= x1 <= 1 Integer\n",
       "0 <= x2 <= 1 Integer\n",
       "0 <= x3 <= 1 Integer"
      ]
     },
     "execution_count": 80,
     "metadata": {},
     "output_type": "execute_result"
    }
   ],
   "source": [
    "model"
   ]
  },
  {
   "cell_type": "code",
   "execution_count": 81,
   "id": "b840112c",
   "metadata": {},
   "outputs": [],
   "source": [
    "status = model.solve()"
   ]
  },
  {
   "cell_type": "code",
   "execution_count": 82,
   "id": "f9335e0a",
   "metadata": {},
   "outputs": [
    {
     "name": "stdout",
     "output_type": "stream",
     "text": [
      "status:1, Optimal\n"
     ]
    }
   ],
   "source": [
    "print(f\"status:{model.status}, {LpStatus[model.status]}\")"
   ]
  },
  {
   "cell_type": "code",
   "execution_count": 83,
   "id": "71c1ee73",
   "metadata": {},
   "outputs": [
    {
     "name": "stdout",
     "output_type": "stream",
     "text": [
      "objective: 800.0\n"
     ]
    }
   ],
   "source": [
    "print(f\"objective: {model.objective.value()}\")"
   ]
  },
  {
   "cell_type": "code",
   "execution_count": 84,
   "id": "b1b89ca8",
   "metadata": {},
   "outputs": [
    {
     "name": "stdout",
     "output_type": "stream",
     "text": [
      "x1: 1.0\n",
      "x2: 0.0\n",
      "x3: 1.0\n"
     ]
    }
   ],
   "source": [
    "for var in model.variables():\n",
    "    print(f\"{var.name}: {var.value()}\")"
   ]
  },
  {
   "cell_type": "code",
   "execution_count": 122,
   "id": "e692e40e",
   "metadata": {},
   "outputs": [],
   "source": [
    "#문제 4"
   ]
  },
  {
   "cell_type": "code",
   "execution_count": 123,
   "id": "cc64f090",
   "metadata": {},
   "outputs": [],
   "source": [
    "model = LpProblem(name='문제_3',sense=LpMaximize)"
   ]
  },
  {
   "cell_type": "code",
   "execution_count": 124,
   "id": "1749da84",
   "metadata": {},
   "outputs": [],
   "source": [
    "x1 = LpVariable (name= 'x1',lowBound = 0, cat = 'Binary')\n",
    "x2 = LpVariable (name= 'x2',lowBound = 0, cat = 'Binary')\n",
    "x3 = LpVariable (name= 'x3',lowBound = 0, cat = 'Binary')\n",
    "x4 = LpVariable (name= 'x4',lowBound = 0, cat = 'Binary')\n",
    "x5 = LpVariable (name= 'x5',lowBound = 0, cat = 'Binary')\n",
    "x6 = LpVariable (name= 'x6',lowBound = 0, cat = 'Binary')\n",
    "x7 = LpVariable (name= 'x7',lowBound = 0, cat = 'Binary')"
   ]
  },
  {
   "cell_type": "code",
   "execution_count": 125,
   "id": "0aa7e68c",
   "metadata": {},
   "outputs": [],
   "source": [
    "model += 65 * x1 + 50 * x2 + 24 * x3 + 11 * x4 + 15 * x5 + 30 * x6 + 23 * x7"
   ]
  },
  {
   "cell_type": "code",
   "execution_count": 126,
   "id": "cd27e482",
   "metadata": {},
   "outputs": [],
   "source": [
    "model += (12 * x1 + 8 * x2 + 6 * x3 + 5 * x4 + 4 * x5 + 8 * x6 + 4 * x7 <= 35,'constraint_#1')"
   ]
  },
  {
   "cell_type": "code",
   "execution_count": 127,
   "id": "8895cead",
   "metadata": {},
   "outputs": [],
   "source": [
    "status = model.solve()"
   ]
  },
  {
   "cell_type": "code",
   "execution_count": 128,
   "id": "130870e7",
   "metadata": {},
   "outputs": [
    {
     "name": "stdout",
     "output_type": "stream",
     "text": [
      "status:1, Optimal\n"
     ]
    }
   ],
   "source": [
    "print(f\"status:{model.status}, {LpStatus[model.status]}\")"
   ]
  },
  {
   "cell_type": "code",
   "execution_count": 129,
   "id": "1c2d7d96",
   "metadata": {},
   "outputs": [
    {
     "name": "stdout",
     "output_type": "stream",
     "text": [
      "objective: 177.0\n"
     ]
    }
   ],
   "source": [
    "print(f\"objective: {model.objective.value()}\")"
   ]
  },
  {
   "cell_type": "code",
   "execution_count": 130,
   "id": "9b3b6296",
   "metadata": {},
   "outputs": [
    {
     "name": "stdout",
     "output_type": "stream",
     "text": [
      "x1: 1.0\n",
      "x2: 1.0\n",
      "x3: 1.0\n",
      "x4: 0.0\n",
      "x5: 1.0\n",
      "x6: 0.0\n",
      "x7: 1.0\n"
     ]
    }
   ],
   "source": [
    "for var in model.variables():\n",
    "    print(f\"{var.name}: {var.value()}\")"
   ]
  },
  {
   "cell_type": "code",
   "execution_count": 174,
   "id": "225d7afe",
   "metadata": {},
   "outputs": [],
   "source": [
    "#문제 5"
   ]
  },
  {
   "cell_type": "code",
   "execution_count": 175,
   "id": "e827f40d",
   "metadata": {},
   "outputs": [],
   "source": [
    "model = LpProblem(name='문제_5',sense=LpMinimize)"
   ]
  },
  {
   "cell_type": "code",
   "execution_count": 176,
   "id": "501f7301",
   "metadata": {},
   "outputs": [],
   "source": [
    "x12 = LpVariable (name= 'x12',lowBound = 0, cat = 'Binary')\n",
    "x13 = LpVariable (name= 'x13',lowBound = 0, cat = 'Binary')\n",
    "x14 = LpVariable (name= 'x14',lowBound = 0, cat = 'Binary')\n",
    "x24 = LpVariable (name= 'x24',lowBound = 0, cat = 'Binary')\n",
    "x25 = LpVariable (name= 'x25',lowBound = 0, cat = 'Binary')\n",
    "x34 = LpVariable (name= 'x34',lowBound = 0, cat = 'Binary')\n",
    "x36 = LpVariable (name= 'x36',lowBound = 0, cat = 'Binary')\n",
    "x45 = LpVariable (name= 'x45',lowBound = 0, cat = 'Binary')\n",
    "x46 = LpVariable (name= 'x46',lowBound = 0, cat = 'Binary')\n",
    "x47 = LpVariable (name= 'x47',lowBound = 0, cat = 'Binary')\n",
    "x57 = LpVariable (name= 'x57',lowBound = 0, cat = 'Binary')\n",
    "x67 = LpVariable (name= 'x67',lowBound = 0, cat = 'Binary')"
   ]
  },
  {
   "cell_type": "code",
   "execution_count": 177,
   "id": "6dbff9b8",
   "metadata": {},
   "outputs": [],
   "source": [
    "model += 16 * x12 + 9 * x13 + 35 * x14 + 12 * x24 + 25 * x25 + 15 * x34 + 22 * x36 + 14 * x45 + 17 * x46 + 19 * x47 + 8 * x57 + 14 * x67"
   ]
  },
  {
   "cell_type": "code",
   "execution_count": 178,
   "id": "b5f75dfd",
   "metadata": {},
   "outputs": [],
   "source": [
    "model += (x12 + x13 + x14 == 1,'constraint_#1')\n",
    "model += (x12 - x24 - x25 == 0,'constraint_#2')\n",
    "model += (x13 - x34 - x36 == 0,'constraint_#3')\n",
    "model += (x14 + x24 + x34 - x45 - x46 - x47 == 0,'constraint_#4')\n",
    "model += (x25 + x45 - x57 == 0,'constraint_#5')\n",
    "model += (x36 + x46 - x67 == 0,'constraint_#6')\n",
    "model += (x47 + x57 + x67 == 1,'constraint_#7')"
   ]
  },
  {
   "cell_type": "code",
   "execution_count": 179,
   "id": "b28a4b9e",
   "metadata": {},
   "outputs": [],
   "source": [
    "status = model.solve()"
   ]
  },
  {
   "cell_type": "code",
   "execution_count": 180,
   "id": "2e0cf805",
   "metadata": {},
   "outputs": [
    {
     "name": "stdout",
     "output_type": "stream",
     "text": [
      "status:1, Optimal\n"
     ]
    }
   ],
   "source": [
    "print(f\"status:{model.status}, {LpStatus[model.status]}\")"
   ]
  },
  {
   "cell_type": "code",
   "execution_count": 181,
   "id": "9c541d22",
   "metadata": {},
   "outputs": [
    {
     "name": "stdout",
     "output_type": "stream",
     "text": [
      "objective: 43.0\n"
     ]
    }
   ],
   "source": [
    "print(f\"objective: {model.objective.value()}\")"
   ]
  },
  {
   "cell_type": "code",
   "execution_count": 182,
   "id": "ea93a4c4",
   "metadata": {},
   "outputs": [
    {
     "name": "stdout",
     "output_type": "stream",
     "text": [
      "x12: 0.0\n",
      "x13: 1.0\n",
      "x14: 0.0\n",
      "x24: 0.0\n",
      "x25: 0.0\n",
      "x34: 1.0\n",
      "x36: 0.0\n",
      "x45: 0.0\n",
      "x46: 0.0\n",
      "x47: 1.0\n",
      "x57: 0.0\n",
      "x67: 0.0\n"
     ]
    }
   ],
   "source": [
    "for var in model.variables():\n",
    "    print(f\"{var.name}: {var.value()}\")"
   ]
  }
 ],
 "metadata": {
  "kernelspec": {
   "display_name": "Python 3",
   "language": "python",
   "name": "python3"
  },
  "language_info": {
   "codemirror_mode": {
    "name": "ipython",
    "version": 3
   },
   "file_extension": ".py",
   "mimetype": "text/x-python",
   "name": "python",
   "nbconvert_exporter": "python",
   "pygments_lexer": "ipython3",
   "version": "3.6.13"
  }
 },
 "nbformat": 4,
 "nbformat_minor": 5
}
