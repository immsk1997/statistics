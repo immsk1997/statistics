{
 "cells": [
  {
   "cell_type": "code",
   "execution_count": 1,
   "id": "db707266",
   "metadata": {},
   "outputs": [],
   "source": [
    "import scipy.stats as st\n",
    "from scipy.stats import t\n",
    "from statsmodels.formula.api import ols\n",
    "from statsmodels.stats.anova import anova_lm\n",
    "import seaborn as sns"
   ]
  },
  {
   "cell_type": "code",
   "execution_count": 3,
   "id": "94fb3022",
   "metadata": {},
   "outputs": [],
   "source": [
    "import pandas as pd"
   ]
  },
  {
   "cell_type": "code",
   "execution_count": 4,
   "id": "a9006d99",
   "metadata": {},
   "outputs": [],
   "source": [
    "import numpy as np"
   ]
  },
  {
   "cell_type": "code",
   "execution_count": 5,
   "id": "4c24b0f6",
   "metadata": {},
   "outputs": [],
   "source": [
    "import matplotlib.pyplot as plt"
   ]
  },
  {
   "cell_type": "code",
   "execution_count": 6,
   "id": "6f021851",
   "metadata": {},
   "outputs": [],
   "source": [
    "df = pd.read_csv('/Users/minsu/Downloads/문제2.csv', sep=',', encoding='utf-8')"
   ]
  },
  {
   "cell_type": "code",
   "execution_count": 7,
   "id": "74fe3408",
   "metadata": {},
   "outputs": [
    {
     "data": {
      "text/html": [
       "<div>\n",
       "<style scoped>\n",
       "    .dataframe tbody tr th:only-of-type {\n",
       "        vertical-align: middle;\n",
       "    }\n",
       "\n",
       "    .dataframe tbody tr th {\n",
       "        vertical-align: top;\n",
       "    }\n",
       "\n",
       "    .dataframe thead th {\n",
       "        text-align: right;\n",
       "    }\n",
       "</style>\n",
       "<table border=\"1\" class=\"dataframe\">\n",
       "  <thead>\n",
       "    <tr style=\"text-align: right;\">\n",
       "      <th></th>\n",
       "      <th>압력</th>\n",
       "      <th>수율</th>\n",
       "    </tr>\n",
       "    <tr>\n",
       "      <th>온도</th>\n",
       "      <th></th>\n",
       "      <th></th>\n",
       "    </tr>\n",
       "  </thead>\n",
       "  <tbody>\n",
       "    <tr>\n",
       "      <th>80</th>\n",
       "      <td>4.5</td>\n",
       "      <td>89.0625</td>\n",
       "    </tr>\n",
       "    <tr>\n",
       "      <th>85</th>\n",
       "      <td>4.5</td>\n",
       "      <td>90.3875</td>\n",
       "    </tr>\n",
       "    <tr>\n",
       "      <th>90</th>\n",
       "      <td>4.5</td>\n",
       "      <td>86.2500</td>\n",
       "    </tr>\n",
       "  </tbody>\n",
       "</table>\n",
       "</div>"
      ],
      "text/plain": [
       "     압력       수율\n",
       "온도              \n",
       "80  4.5  89.0625\n",
       "85  4.5  90.3875\n",
       "90  4.5  86.2500"
      ]
     },
     "execution_count": 7,
     "metadata": {},
     "output_type": "execute_result"
    }
   ],
   "source": [
    "grouped1 = df.groupby(df['온도'])\n",
    "grouped1.mean()"
   ]
  },
  {
   "cell_type": "code",
   "execution_count": 8,
   "id": "7cd0c684",
   "metadata": {},
   "outputs": [
    {
     "data": {
      "text/plain": [
       "<AxesSubplot:>"
      ]
     },
     "execution_count": 8,
     "metadata": {},
     "output_type": "execute_result"
    },
    {
     "name": "stderr",
     "output_type": "stream",
     "text": [
      "/Users/minsu/opt/anaconda3/envs/abc/lib/python3.8/site-packages/IPython/core/pylabtools.py:151: UserWarning: Glyph 50728 (\\N{HANGUL SYLLABLE ON}) missing from current font.\n",
      "  fig.canvas.print_figure(bytes_io, **kw)\n",
      "/Users/minsu/opt/anaconda3/envs/abc/lib/python3.8/site-packages/IPython/core/pylabtools.py:151: UserWarning: Glyph 46020 (\\N{HANGUL SYLLABLE DO}) missing from current font.\n",
      "  fig.canvas.print_figure(bytes_io, **kw)\n",
      "/Users/minsu/opt/anaconda3/envs/abc/lib/python3.8/site-packages/IPython/core/pylabtools.py:151: UserWarning: Glyph 50517 (\\N{HANGUL SYLLABLE AB}) missing from current font.\n",
      "  fig.canvas.print_figure(bytes_io, **kw)\n",
      "/Users/minsu/opt/anaconda3/envs/abc/lib/python3.8/site-packages/IPython/core/pylabtools.py:151: UserWarning: Glyph 47141 (\\N{HANGUL SYLLABLE RYEOG}) missing from current font.\n",
      "  fig.canvas.print_figure(bytes_io, **kw)\n",
      "/Users/minsu/opt/anaconda3/envs/abc/lib/python3.8/site-packages/IPython/core/pylabtools.py:151: UserWarning: Glyph 49688 (\\N{HANGUL SYLLABLE SU}) missing from current font.\n",
      "  fig.canvas.print_figure(bytes_io, **kw)\n",
      "/Users/minsu/opt/anaconda3/envs/abc/lib/python3.8/site-packages/IPython/core/pylabtools.py:151: UserWarning: Glyph 50984 (\\N{HANGUL SYLLABLE YUL}) missing from current font.\n",
      "  fig.canvas.print_figure(bytes_io, **kw)\n"
     ]
    },
    {
     "data": {
      "image/png": "[encoded data removed]",
      "text/plain": [
       "<Figure size 432x288 with 1 Axes>"
      ]
     },
     "metadata": {
      "needs_background": "light"
     },
     "output_type": "display_data"
    }
   ],
   "source": [
    "grouped1.boxplot(subplots=False)"
   ]
  },
  {
   "cell_type": "code",
   "execution_count": 9,
   "id": "fcb55534",
   "metadata": {},
   "outputs": [
    {
     "data": {
      "text/html": [
       "<div>\n",
       "<style scoped>\n",
       "    .dataframe tbody tr th:only-of-type {\n",
       "        vertical-align: middle;\n",
       "    }\n",
       "\n",
       "    .dataframe tbody tr th {\n",
       "        vertical-align: top;\n",
       "    }\n",
       "\n",
       "    .dataframe thead th {\n",
       "        text-align: right;\n",
       "    }\n",
       "</style>\n",
       "<table border=\"1\" class=\"dataframe\">\n",
       "  <thead>\n",
       "    <tr style=\"text-align: right;\">\n",
       "      <th></th>\n",
       "      <th>온도</th>\n",
       "      <th>수율</th>\n",
       "    </tr>\n",
       "    <tr>\n",
       "      <th>압력</th>\n",
       "      <th></th>\n",
       "      <th></th>\n",
       "    </tr>\n",
       "  </thead>\n",
       "  <tbody>\n",
       "    <tr>\n",
       "      <th>3</th>\n",
       "      <td>85.0</td>\n",
       "      <td>87.783333</td>\n",
       "    </tr>\n",
       "    <tr>\n",
       "      <th>4</th>\n",
       "      <td>85.0</td>\n",
       "      <td>89.083333</td>\n",
       "    </tr>\n",
       "    <tr>\n",
       "      <th>5</th>\n",
       "      <td>85.0</td>\n",
       "      <td>87.600000</td>\n",
       "    </tr>\n",
       "    <tr>\n",
       "      <th>6</th>\n",
       "      <td>85.0</td>\n",
       "      <td>89.800000</td>\n",
       "    </tr>\n",
       "  </tbody>\n",
       "</table>\n",
       "</div>"
      ],
      "text/plain": [
       "      온도         수율\n",
       "압력                 \n",
       "3   85.0  87.783333\n",
       "4   85.0  89.083333\n",
       "5   85.0  87.600000\n",
       "6   85.0  89.800000"
      ]
     },
     "execution_count": 9,
     "metadata": {},
     "output_type": "execute_result"
    }
   ],
   "source": [
    "grouped2 = df.groupby(df['압력'])\n",
    "grouped2.mean()"
   ]
  },
  {
   "cell_type": "code",
   "execution_count": 10,
   "id": "3dd899a9",
   "metadata": {
    "scrolled": true
   },
   "outputs": [
    {
     "data": {
      "text/plain": [
       "<AxesSubplot:>"
      ]
     },
     "execution_count": 10,
     "metadata": {},
     "output_type": "execute_result"
    },
    {
     "name": "stderr",
     "output_type": "stream",
     "text": [
      "/Users/minsu/opt/anaconda3/envs/abc/lib/python3.8/site-packages/IPython/core/pylabtools.py:151: UserWarning: Glyph 50728 (\\N{HANGUL SYLLABLE ON}) missing from current font.\n",
      "  fig.canvas.print_figure(bytes_io, **kw)\n",
      "/Users/minsu/opt/anaconda3/envs/abc/lib/python3.8/site-packages/IPython/core/pylabtools.py:151: UserWarning: Glyph 46020 (\\N{HANGUL SYLLABLE DO}) missing from current font.\n",
      "  fig.canvas.print_figure(bytes_io, **kw)\n",
      "/Users/minsu/opt/anaconda3/envs/abc/lib/python3.8/site-packages/IPython/core/pylabtools.py:151: UserWarning: Glyph 50517 (\\N{HANGUL SYLLABLE AB}) missing from current font.\n",
      "  fig.canvas.print_figure(bytes_io, **kw)\n",
      "/Users/minsu/opt/anaconda3/envs/abc/lib/python3.8/site-packages/IPython/core/pylabtools.py:151: UserWarning: Glyph 47141 (\\N{HANGUL SYLLABLE RYEOG}) missing from current font.\n",
      "  fig.canvas.print_figure(bytes_io, **kw)\n",
      "/Users/minsu/opt/anaconda3/envs/abc/lib/python3.8/site-packages/IPython/core/pylabtools.py:151: UserWarning: Glyph 49688 (\\N{HANGUL SYLLABLE SU}) missing from current font.\n",
      "  fig.canvas.print_figure(bytes_io, **kw)\n",
      "/Users/minsu/opt/anaconda3/envs/abc/lib/python3.8/site-packages/IPython/core/pylabtools.py:151: UserWarning: Glyph 50984 (\\N{HANGUL SYLLABLE YUL}) missing from current font.\n",
      "  fig.canvas.print_figure(bytes_io, **kw)\n"
     ]
    },
    {
     "data": {
      "image/png": "[encoded data removed]",
      "text/plain": [
       "<Figure size 432x288 with 1 Axes>"
      ]
     },
     "metadata": {
      "needs_background": "light"
     },
     "output_type": "display_data"
    }
   ],
   "source": [
    "grouped2.boxplot(subplots=False)"
   ]
  },
  {
   "cell_type": "code",
   "execution_count": 41,
   "id": "90c7fe9e",
   "metadata": {},
   "outputs": [
    {
     "data": {
      "text/html": [
       "<div>\n",
       "<style scoped>\n",
       "    .dataframe tbody tr th:only-of-type {\n",
       "        vertical-align: middle;\n",
       "    }\n",
       "\n",
       "    .dataframe tbody tr th {\n",
       "        vertical-align: top;\n",
       "    }\n",
       "\n",
       "    .dataframe thead th {\n",
       "        text-align: right;\n",
       "    }\n",
       "</style>\n",
       "<table border=\"1\" class=\"dataframe\">\n",
       "  <thead>\n",
       "    <tr style=\"text-align: right;\">\n",
       "      <th></th>\n",
       "      <th>df</th>\n",
       "      <th>sum_sq</th>\n",
       "      <th>mean_sq</th>\n",
       "      <th>F</th>\n",
       "      <th>PR(&gt;F)</th>\n",
       "    </tr>\n",
       "  </thead>\n",
       "  <tbody>\n",
       "    <tr>\n",
       "      <th>온도</th>\n",
       "      <td>1.0</td>\n",
       "      <td>31.640625</td>\n",
       "      <td>31.640625</td>\n",
       "      <td>10.077186</td>\n",
       "      <td>0.004566</td>\n",
       "    </tr>\n",
       "    <tr>\n",
       "      <th>압력</th>\n",
       "      <td>1.0</td>\n",
       "      <td>6.256333</td>\n",
       "      <td>6.256333</td>\n",
       "      <td>1.992572</td>\n",
       "      <td>0.172718</td>\n",
       "    </tr>\n",
       "    <tr>\n",
       "      <th>Residual</th>\n",
       "      <td>21.0</td>\n",
       "      <td>65.936375</td>\n",
       "      <td>3.139827</td>\n",
       "      <td>NaN</td>\n",
       "      <td>NaN</td>\n",
       "    </tr>\n",
       "  </tbody>\n",
       "</table>\n",
       "</div>"
      ],
      "text/plain": [
       "            df     sum_sq    mean_sq          F    PR(>F)\n",
       "온도         1.0  31.640625  31.640625  10.077186  0.004566\n",
       "압력         1.0   6.256333   6.256333   1.992572  0.172718\n",
       "Residual  21.0  65.936375   3.139827        NaN       NaN"
      ]
     },
     "execution_count": 41,
     "metadata": {},
     "output_type": "execute_result"
    }
   ],
   "source": [
    "#분산분석\n",
    "model = ols('수율 ~ 온도 + 압력', df).fit()\n",
    "anova_lm(model)"
   ]
  },
  {
   "cell_type": "code",
   "execution_count": 45,
   "id": "9623afd1",
   "metadata": {},
   "outputs": [],
   "source": [
    "# 유의수준 5%이내에서 p값이 0.004566이므로 귀무가설을 기각하고 대립가설 채택\n",
    "\n",
    "#귀무가설 : 온도 이외 압력이 수율에 영향을 미친다\n",
    "\n",
    "#대립가설 : 온도 이외 압력이 수율에 영향을 미친다"
   ]
  },
  {
   "cell_type": "code",
   "execution_count": 46,
   "id": "afd58a21",
   "metadata": {},
   "outputs": [
    {
     "name": "stdout",
     "output_type": "stream",
     "text": [
      "t_025:2.079613844727662\n",
      "t_stat:3.68498360434303\n"
     ]
    }
   ],
   "source": [
    "t_025 = t(21).ppf(0.975)\n",
    "VE = 3.139827\n",
    "m=1\n",
    "\n",
    "t_stat = t_025*np.sqrt(VE/m)\n",
    "\n",
    "print(\"t_025:{}\".format(t_025))\n",
    "print(\"t_stat:{}\".format(t_stat))"
   ]
  },
  {
   "cell_type": "code",
   "execution_count": 50,
   "id": "36ee085d",
   "metadata": {},
   "outputs": [
    {
     "data": {
      "text/html": [
       "<div>\n",
       "<style scoped>\n",
       "    .dataframe tbody tr th:only-of-type {\n",
       "        vertical-align: middle;\n",
       "    }\n",
       "\n",
       "    .dataframe tbody tr th {\n",
       "        vertical-align: top;\n",
       "    }\n",
       "\n",
       "    .dataframe thead th {\n",
       "        text-align: right;\n",
       "    }\n",
       "</style>\n",
       "<table border=\"1\" class=\"dataframe\">\n",
       "  <thead>\n",
       "    <tr style=\"text-align: right;\">\n",
       "      <th></th>\n",
       "      <th>온도</th>\n",
       "      <th>수율</th>\n",
       "    </tr>\n",
       "    <tr>\n",
       "      <th>압력</th>\n",
       "      <th></th>\n",
       "      <th></th>\n",
       "    </tr>\n",
       "  </thead>\n",
       "  <tbody>\n",
       "    <tr>\n",
       "      <th>3</th>\n",
       "      <td>85.0</td>\n",
       "      <td>87.783333</td>\n",
       "    </tr>\n",
       "    <tr>\n",
       "      <th>4</th>\n",
       "      <td>85.0</td>\n",
       "      <td>89.083333</td>\n",
       "    </tr>\n",
       "    <tr>\n",
       "      <th>5</th>\n",
       "      <td>85.0</td>\n",
       "      <td>87.600000</td>\n",
       "    </tr>\n",
       "    <tr>\n",
       "      <th>6</th>\n",
       "      <td>85.0</td>\n",
       "      <td>89.800000</td>\n",
       "    </tr>\n",
       "  </tbody>\n",
       "</table>\n",
       "</div>"
      ],
      "text/plain": [
       "      온도         수율\n",
       "압력                 \n",
       "3   85.0  87.783333\n",
       "4   85.0  89.083333\n",
       "5   85.0  87.600000\n",
       "6   85.0  89.800000"
      ]
     },
     "execution_count": 50,
     "metadata": {},
     "output_type": "execute_result"
    }
   ],
   "source": [
    "df2 = grouped2.mean()\n",
    "df2"
   ]
  },
  {
   "cell_type": "code",
   "execution_count": 51,
   "id": "4c0244f4",
   "metadata": {},
   "outputs": [
    {
     "name": "stdout",
     "output_type": "stream",
     "text": [
      "3:85.0\n",
      "4:85.0\n",
      "5:85.0\n",
      "6:85.0\n"
     ]
    }
   ],
   "source": [
    "for idx, row in df2.iterrows():\n",
    "    print(f'{idx}:{row[0]}')"
   ]
  },
  {
   "cell_type": "code",
   "execution_count": 56,
   "id": "4bfc5389",
   "metadata": {},
   "outputs": [
    {
     "name": "stdout",
     "output_type": "stream",
     "text": [
      "3압력 신뢰구간: 81.31501639565697<=mu<=88.68498360434303\n",
      "4압력 신뢰구간: 81.31501639565697<=mu<=88.68498360434303\n",
      "5압력 신뢰구간: 81.31501639565697<=mu<=88.68498360434303\n",
      "6압력 신뢰구간: 81.31501639565697<=mu<=88.68498360434303\n"
     ]
    }
   ],
   "source": [
    "for idx, row in df2.iterrows():\n",
    "    print(f\"{idx}압력 신뢰구간: {row[0]-t_stat}<=mu<={row[0]+t_stat}\")"
   ]
  },
  {
   "cell_type": "code",
   "execution_count": 40,
   "id": "a90aa676",
   "metadata": {},
   "outputs": [],
   "source": [
    "#신뢰구간 95% 추정"
   ]
  },
  {
   "cell_type": "code",
   "execution_count": null,
   "id": "74862585",
   "metadata": {},
   "outputs": [],
   "source": [
    "from statsmodels.graphics.factorpiots import interaction_plot\n",
    "fig = interaction_plot(df2.온도,df2.압력,df2.수율)"
   ]
  },
  {
   "cell_type": "code",
   "execution_count": null,
   "id": "514ac53b",
   "metadata": {},
   "outputs": [],
   "source": [
    "fig = interaction_plot(df2.온도, df2.압력, df2.수율)"
   ]
  },
  {
   "cell_type": "code",
   "execution_count": 58,
   "id": "6fddfb30",
   "metadata": {},
   "outputs": [],
   "source": [
    "#교호작용 그래프"
   ]
  }
 ],
 "metadata": {
  "kernelspec": {
   "display_name": "Python 3",
   "language": "python",
   "name": "python3"
  },
  "language_info": {
   "codemirror_mode": {
    "name": "ipython",
    "version": 3
   },
   "file_extension": ".py",
   "mimetype": "text/x-python",
   "name": "python",
   "nbconvert_exporter": "python",
   "pygments_lexer": "ipython3",
   "version": "3.6.13"
  }
 },
 "nbformat": 4,
 "nbformat_minor": 5
}
