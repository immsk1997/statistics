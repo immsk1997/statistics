{
 "cells": [
  {
   "cell_type": "code",
   "execution_count": 72,
   "id": "1b02b3de",
   "metadata": {},
   "outputs": [],
   "source": [
    "import numpy as np"
   ]
  },
  {
   "cell_type": "code",
   "execution_count": 73,
   "id": "ce2d6f23",
   "metadata": {},
   "outputs": [],
   "source": [
    "import pandas as pd"
   ]
  },
  {
   "cell_type": "code",
   "execution_count": 74,
   "id": "8351dd2b",
   "metadata": {},
   "outputs": [],
   "source": [
    "import matplotlib.pyplot as plt"
   ]
  },
  {
   "cell_type": "code",
   "execution_count": 75,
   "id": "c80db35c",
   "metadata": {},
   "outputs": [],
   "source": [
    "import scipy.stats as st\n",
    "from scipy.stats import t\n",
    "from statsmodels.formula.api import ols\n",
    "from statsmodels.stats.anova import anova_lm\n",
    "import seaborn as sns"
   ]
  },
  {
   "cell_type": "code",
   "execution_count": 76,
   "id": "910dcd1d",
   "metadata": {},
   "outputs": [],
   "source": [
    "df = pd.read_csv('/Users/minsu/Downloads/문제1.csv', sep=',' , encoding='utf-8')"
   ]
  },
  {
   "cell_type": "code",
   "execution_count": 77,
   "id": "24280d01",
   "metadata": {},
   "outputs": [
    {
     "data": {
      "text/html": [
       "<div>\n",
       "<style scoped>\n",
       "    .dataframe tbody tr th:only-of-type {\n",
       "        vertical-align: middle;\n",
       "    }\n",
       "\n",
       "    .dataframe tbody tr th {\n",
       "        vertical-align: top;\n",
       "    }\n",
       "\n",
       "    .dataframe thead th {\n",
       "        text-align: right;\n",
       "    }\n",
       "</style>\n",
       "<table border=\"1\" class=\"dataframe\">\n",
       "  <thead>\n",
       "    <tr style=\"text-align: right;\">\n",
       "      <th></th>\n",
       "      <th>압력</th>\n",
       "      <th>수율</th>\n",
       "    </tr>\n",
       "  </thead>\n",
       "  <tbody>\n",
       "    <tr>\n",
       "      <th>count</th>\n",
       "      <td>12.000000</td>\n",
       "      <td>12.000000</td>\n",
       "    </tr>\n",
       "    <tr>\n",
       "      <th>mean</th>\n",
       "      <td>4.500000</td>\n",
       "      <td>88.566667</td>\n",
       "    </tr>\n",
       "    <tr>\n",
       "      <th>std</th>\n",
       "      <td>1.167748</td>\n",
       "      <td>1.970848</td>\n",
       "    </tr>\n",
       "    <tr>\n",
       "      <th>min</th>\n",
       "      <td>3.000000</td>\n",
       "      <td>84.500000</td>\n",
       "    </tr>\n",
       "    <tr>\n",
       "      <th>25%</th>\n",
       "      <td>3.750000</td>\n",
       "      <td>87.800000</td>\n",
       "    </tr>\n",
       "    <tr>\n",
       "      <th>50%</th>\n",
       "      <td>4.500000</td>\n",
       "      <td>88.700000</td>\n",
       "    </tr>\n",
       "    <tr>\n",
       "      <th>75%</th>\n",
       "      <td>5.250000</td>\n",
       "      <td>90.125000</td>\n",
       "    </tr>\n",
       "    <tr>\n",
       "      <th>max</th>\n",
       "      <td>6.000000</td>\n",
       "      <td>91.200000</td>\n",
       "    </tr>\n",
       "  </tbody>\n",
       "</table>\n",
       "</div>"
      ],
      "text/plain": [
       "              압력         수율\n",
       "count  12.000000  12.000000\n",
       "mean    4.500000  88.566667\n",
       "std     1.167748   1.970848\n",
       "min     3.000000  84.500000\n",
       "25%     3.750000  87.800000\n",
       "50%     4.500000  88.700000\n",
       "75%     5.250000  90.125000\n",
       "max     6.000000  91.200000"
      ]
     },
     "execution_count": 77,
     "metadata": {},
     "output_type": "execute_result"
    }
   ],
   "source": [
    "df.describe()"
   ]
  },
  {
   "cell_type": "code",
   "execution_count": 78,
   "id": "486cdb92",
   "metadata": {},
   "outputs": [
    {
     "data": {
      "text/html": [
       "<div>\n",
       "<style scoped>\n",
       "    .dataframe tbody tr th:only-of-type {\n",
       "        vertical-align: middle;\n",
       "    }\n",
       "\n",
       "    .dataframe tbody tr th {\n",
       "        vertical-align: top;\n",
       "    }\n",
       "\n",
       "    .dataframe thead th {\n",
       "        text-align: right;\n",
       "    }\n",
       "</style>\n",
       "<table border=\"1\" class=\"dataframe\">\n",
       "  <thead>\n",
       "    <tr style=\"text-align: right;\">\n",
       "      <th></th>\n",
       "      <th>압력</th>\n",
       "      <th>수율</th>\n",
       "    </tr>\n",
       "  </thead>\n",
       "  <tbody>\n",
       "    <tr>\n",
       "      <th>0</th>\n",
       "      <td>3</td>\n",
       "      <td>89.2</td>\n",
       "    </tr>\n",
       "    <tr>\n",
       "      <th>1</th>\n",
       "      <td>3</td>\n",
       "      <td>88.5</td>\n",
       "    </tr>\n",
       "    <tr>\n",
       "      <th>2</th>\n",
       "      <td>3</td>\n",
       "      <td>87.8</td>\n",
       "    </tr>\n",
       "    <tr>\n",
       "      <th>3</th>\n",
       "      <td>4</td>\n",
       "      <td>90.2</td>\n",
       "    </tr>\n",
       "    <tr>\n",
       "      <th>4</th>\n",
       "      <td>4</td>\n",
       "      <td>88.9</td>\n",
       "    </tr>\n",
       "  </tbody>\n",
       "</table>\n",
       "</div>"
      ],
      "text/plain": [
       "   압력    수율\n",
       "0   3  89.2\n",
       "1   3  88.5\n",
       "2   3  87.8\n",
       "3   4  90.2\n",
       "4   4  88.9"
      ]
     },
     "execution_count": 78,
     "metadata": {},
     "output_type": "execute_result"
    }
   ],
   "source": [
    "df.head()"
   ]
  },
  {
   "cell_type": "code",
   "execution_count": 79,
   "id": "dfa0b95c",
   "metadata": {},
   "outputs": [
    {
     "data": {
      "text/plain": [
       "압력\n",
       "3    3\n",
       "4    3\n",
       "5    3\n",
       "6    3\n",
       "dtype: int64"
      ]
     },
     "execution_count": 79,
     "metadata": {},
     "output_type": "execute_result"
    }
   ],
   "source": [
    "grouped=df.groupby(df['압력'])\n",
    "grouped.size()"
   ]
  },
  {
   "cell_type": "code",
   "execution_count": 80,
   "id": "9fe1caad",
   "metadata": {},
   "outputs": [
    {
     "data": {
      "text/plain": [
       "<AxesSubplot:>"
      ]
     },
     "execution_count": 80,
     "metadata": {},
     "output_type": "execute_result"
    },
    {
     "name": "stderr",
     "output_type": "stream",
     "text": [
      "/Users/minsu/opt/anaconda3/envs/abc/lib/python3.8/site-packages/IPython/core/pylabtools.py:151: UserWarning: Glyph 50517 (\\N{HANGUL SYLLABLE AB}) missing from current font.\n",
      "  fig.canvas.print_figure(bytes_io, **kw)\n",
      "/Users/minsu/opt/anaconda3/envs/abc/lib/python3.8/site-packages/IPython/core/pylabtools.py:151: UserWarning: Glyph 47141 (\\N{HANGUL SYLLABLE RYEOG}) missing from current font.\n",
      "  fig.canvas.print_figure(bytes_io, **kw)\n",
      "/Users/minsu/opt/anaconda3/envs/abc/lib/python3.8/site-packages/IPython/core/pylabtools.py:151: UserWarning: Glyph 49688 (\\N{HANGUL SYLLABLE SU}) missing from current font.\n",
      "  fig.canvas.print_figure(bytes_io, **kw)\n",
      "/Users/minsu/opt/anaconda3/envs/abc/lib/python3.8/site-packages/IPython/core/pylabtools.py:151: UserWarning: Glyph 50984 (\\N{HANGUL SYLLABLE YUL}) missing from current font.\n",
      "  fig.canvas.print_figure(bytes_io, **kw)\n"
     ]
    },
    {
     "data": {
      "image/png": "[encoded data removed]",
      "text/plain": [
       "<Figure size 432x288 with 1 Axes>"
      ]
     },
     "metadata": {
      "needs_background": "light"
     },
     "output_type": "display_data"
    }
   ],
   "source": [
    "grouped.boxplot(subplots=False)"
   ]
  },
  {
   "cell_type": "markdown",
   "id": "2c4911eb",
   "metadata": {},
   "source": [
    "인자별 가시화"
   ]
  },
  {
   "cell_type": "code",
   "execution_count": 81,
   "id": "817c82bd",
   "metadata": {},
   "outputs": [
    {
     "data": {
      "text/html": [
       "<div>\n",
       "<style scoped>\n",
       "    .dataframe tbody tr th:only-of-type {\n",
       "        vertical-align: middle;\n",
       "    }\n",
       "\n",
       "    .dataframe tbody tr th {\n",
       "        vertical-align: top;\n",
       "    }\n",
       "\n",
       "    .dataframe thead th {\n",
       "        text-align: right;\n",
       "    }\n",
       "</style>\n",
       "<table border=\"1\" class=\"dataframe\">\n",
       "  <thead>\n",
       "    <tr style=\"text-align: right;\">\n",
       "      <th></th>\n",
       "      <th>압력</th>\n",
       "      <th>수율</th>\n",
       "    </tr>\n",
       "  </thead>\n",
       "  <tbody>\n",
       "    <tr>\n",
       "      <th>9</th>\n",
       "      <td>6</td>\n",
       "      <td>87.8</td>\n",
       "    </tr>\n",
       "    <tr>\n",
       "      <th>8</th>\n",
       "      <td>5</td>\n",
       "      <td>85.6</td>\n",
       "    </tr>\n",
       "    <tr>\n",
       "      <th>7</th>\n",
       "      <td>5</td>\n",
       "      <td>90.1</td>\n",
       "    </tr>\n",
       "    <tr>\n",
       "      <th>0</th>\n",
       "      <td>3</td>\n",
       "      <td>89.2</td>\n",
       "    </tr>\n",
       "    <tr>\n",
       "      <th>5</th>\n",
       "      <td>4</td>\n",
       "      <td>91.2</td>\n",
       "    </tr>\n",
       "    <tr>\n",
       "      <th>11</th>\n",
       "      <td>6</td>\n",
       "      <td>88.5</td>\n",
       "    </tr>\n",
       "    <tr>\n",
       "      <th>3</th>\n",
       "      <td>4</td>\n",
       "      <td>90.2</td>\n",
       "    </tr>\n",
       "    <tr>\n",
       "      <th>6</th>\n",
       "      <td>5</td>\n",
       "      <td>90.5</td>\n",
       "    </tr>\n",
       "    <tr>\n",
       "      <th>10</th>\n",
       "      <td>6</td>\n",
       "      <td>84.5</td>\n",
       "    </tr>\n",
       "    <tr>\n",
       "      <th>2</th>\n",
       "      <td>3</td>\n",
       "      <td>87.8</td>\n",
       "    </tr>\n",
       "    <tr>\n",
       "      <th>1</th>\n",
       "      <td>3</td>\n",
       "      <td>88.5</td>\n",
       "    </tr>\n",
       "    <tr>\n",
       "      <th>4</th>\n",
       "      <td>4</td>\n",
       "      <td>88.9</td>\n",
       "    </tr>\n",
       "  </tbody>\n",
       "</table>\n",
       "</div>"
      ],
      "text/plain": [
       "    압력    수율\n",
       "9    6  87.8\n",
       "8    5  85.6\n",
       "7    5  90.1\n",
       "0    3  89.2\n",
       "5    4  91.2\n",
       "11   6  88.5\n",
       "3    4  90.2\n",
       "6    5  90.5\n",
       "10   6  84.5\n",
       "2    3  87.8\n",
       "1    3  88.5\n",
       "4    4  88.9"
      ]
     },
     "execution_count": 81,
     "metadata": {},
     "output_type": "execute_result"
    }
   ],
   "source": [
    "df_sample=df.sample(n=12)\n",
    "df_sample"
   ]
  },
  {
   "cell_type": "code",
   "execution_count": 82,
   "id": "b1220bf0",
   "metadata": {},
   "outputs": [],
   "source": [
    "# -가설수립\n",
    "\n",
    "#1.귀무가설 : 압력이 제품 수율에 영향을 미치지 않는다\n",
    "#2.대립가설 : 압력이 제품 수율에 영향을 미친다."
   ]
  },
  {
   "cell_type": "code",
   "execution_count": 85,
   "id": "8d3606d0",
   "metadata": {},
   "outputs": [
    {
     "name": "stdout",
     "output_type": "stream",
     "text": [
      "mean:4.5, variance:1.25, s_deviation:1.1677484162422844\n"
     ]
    }
   ],
   "source": [
    "s_mean = np.mean(df_sample['압력'])\n",
    "s_var = np.var(df_sample['압력'])\n",
    "s_std = np.std(df_sample['압력'],ddof=1)\n",
    "\n",
    "print(\"mean:{}, variance:{}, s_deviation:{}\".format(s_mean, s_var, s_std))"
   ]
  },
  {
   "cell_type": "code",
   "execution_count": 90,
   "id": "cb7088af",
   "metadata": {},
   "outputs": [
    {
     "name": "stdout",
     "output_type": "stream",
     "text": [
      "t_025:2.200985160082949\n"
     ]
    }
   ],
   "source": [
    "df = len(df_sample['압력'])-1\n",
    "t_025 = t(df).ppf(0.975)\n",
    "print(\"t_025:{}\".format(t_025))"
   ]
  },
  {
   "cell_type": "code",
   "execution_count": 91,
   "id": "cb233575",
   "metadata": {},
   "outputs": [
    {
     "name": "stdout",
     "output_type": "stream",
     "text": [
      "95% confidence interval: 3.7580480538942194<mu<5.241951946105781\n"
     ]
    }
   ],
   "source": [
    "x_bar = np.mean(df_sample['압력'])\n",
    "x_std = np.std(df_sample['압력'],ddof=1)\n",
    "\n",
    "L_95 = x_bar - t_025*x_std/np.sqrt(12)\n",
    "U_95 = x_bar + t_025*x_std/np.sqrt(12)\n",
    "print(\"95% confidence interval: {}<mu<{}\".format(L_95,U_95))"
   ]
  },
  {
   "cell_type": "code",
   "execution_count": 122,
   "id": "ee473326",
   "metadata": {},
   "outputs": [],
   "source": [
    "# 95% 신뢰구간 추정"
   ]
  },
  {
   "cell_type": "code",
   "execution_count": 123,
   "id": "7f407956",
   "metadata": {},
   "outputs": [
    {
     "name": "stdout",
     "output_type": "stream",
     "text": [
      "유의수준:0.05 , p_value:0.08304340675914779\n"
     ]
    }
   ],
   "source": [
    "mu = 4\n",
    "t0 = np.abs(x_bar-mu)/x_std*np.sqrt(12)\n",
    "p_value = 1 - t(df).cdf(t0)\n",
    "print(\"유의수준:0.05 , p_value:{}\".format(p_value))"
   ]
  },
  {
   "cell_type": "code",
   "execution_count": 121,
   "id": "ef6adb35",
   "metadata": {},
   "outputs": [],
   "source": [
    "# 유의수준 0.05% 보다 p값이 크기 때문에 귀무가설 채택\n",
    "\n",
    "# 따라서 압력은 제품 수율에 영향을 안미친다.\n"
   ]
  }
 ],
 "metadata": {
  "kernelspec": {
   "display_name": "Python 3",
   "language": "python",
   "name": "python3"
  },
  "language_info": {
   "codemirror_mode": {
    "name": "ipython",
    "version": 3
   },
   "file_extension": ".py",
   "mimetype": "text/x-python",
   "name": "python",
   "nbconvert_exporter": "python",
   "pygments_lexer": "ipython3",
   "version": "3.6.13"
  }
 },
 "nbformat": 4,
 "nbformat_minor": 5
}
